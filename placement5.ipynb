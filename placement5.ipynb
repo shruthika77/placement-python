{
  "nbformat": 4,
  "nbformat_minor": 0,
  "metadata": {
    "colab": {
      "provenance": [],
      "authorship_tag": "ABX9TyMh1i6lc2WIGtq8W/Evn4Gt",
      "include_colab_link": true
    },
    "kernelspec": {
      "name": "python3",
      "display_name": "Python 3"
    },
    "language_info": {
      "name": "python"
    }
  },
  "cells": [
    {
      "cell_type": "markdown",
      "metadata": {
        "id": "view-in-github",
        "colab_type": "text"
      },
      "source": [
        "<a href=\"https://colab.research.google.com/github/shruthika77/placement-python/blob/main/placement5.ipynb\" target=\"_parent\"><img src=\"https://colab.research.google.com/assets/colab-badge.svg\" alt=\"Open In Colab\"/></a>"
      ]
    },
    {
      "cell_type": "code",
      "execution_count": null,
      "metadata": {
        "colab": {
          "base_uri": "https://localhost:8080/"
        },
        "id": "wpWg4jVKTgCt",
        "outputId": "619f1d2f-906c-4e40-d240-66f4a3b6cc40"
      },
      "outputs": [
        {
          "output_type": "stream",
          "name": "stdout",
          "text": [
            "6\n",
            "2\n",
            "3\n"
          ]
        }
      ],
      "source": [
        "n1=int(input())\n",
        "n2=int(input())\n",
        "temp=0\n",
        "rem=n1%n2\n",
        "for i in range(1,n1):\n",
        "  temp=(i*n2)+rem\n",
        "  if temp==n1:\n",
        "    print(i)\n",
        "    break\n",
        "\n"
      ]
    },
    {
      "cell_type": "code",
      "source": [
        "#muliply without *\n",
        "a=int(input())\n",
        "b=int(input())\n",
        "c=0\n",
        "if(a<=b):\n",
        "  for i in range(a):\n",
        "    c+=b\n",
        "elif(b<=a):\n",
        "  for i in range(b):\n",
        "    c+=a\n",
        "else:\n",
        "  print(\"nothing\")\n",
        "print(c)"
      ],
      "metadata": {
        "colab": {
          "base_uri": "https://localhost:8080/"
        },
        "id": "ifBteD6cmeBq",
        "outputId": "9314e594-e179-4040-fade-189d563becaa"
      },
      "execution_count": null,
      "outputs": [
        {
          "output_type": "stream",
          "name": "stdout",
          "text": [
            "5\n",
            "4\n",
            "20\n"
          ]
        }
      ]
    },
    {
      "cell_type": "code",
      "source": [
        "#subraction without arithmetic operator\n",
        "a=int(input())\n",
        "b=int(input())\n",
        "print(f'subraction of {a} and {b}:',a+~b+1)"
      ],
      "metadata": {
        "colab": {
          "base_uri": "https://localhost:8080/"
        },
        "id": "azFinGcCZvYV",
        "outputId": "3fc429db-ab9b-456a-fbf6-d7a4bf18a28b"
      },
      "execution_count": null,
      "outputs": [
        {
          "output_type": "stream",
          "name": "stdout",
          "text": [
            "4\n",
            "2\n",
            "subraction of 4 and 2: 2\n"
          ]
        }
      ]
    },
    {
      "cell_type": "code",
      "source": [
        "n=int(input())\n",
        "for i in range(1,n+1):\n",
        "  for j in range(1,i+1):\n",
        "    print(i, end=\" \")\n",
        "  print()\n"
      ],
      "metadata": {
        "colab": {
          "base_uri": "https://localhost:8080/"
        },
        "id": "a3mr0g1qUtDA",
        "outputId": "f8537e27-c6e3-4e0d-c083-65fff76709a1"
      },
      "execution_count": null,
      "outputs": [
        {
          "output_type": "stream",
          "name": "stdout",
          "text": [
            "4\n",
            "1 \n",
            "2 2 \n",
            "3 3 3 \n",
            "4 4 4 4 \n"
          ]
        }
      ]
    },
    {
      "cell_type": "code",
      "source": [
        "n=int(input())\n",
        "for i in range(1,j+1):\n",
        "  for j in range(1,n):\n",
        "    print(i, end=\" \")\n",
        "  print()\n"
      ],
      "metadata": {
        "colab": {
          "base_uri": "https://localhost:8080/"
        },
        "id": "CXdT9aAqElSK",
        "outputId": "fec962c9-1d13-4721-c302-4e1f7516b426"
      },
      "execution_count": null,
      "outputs": [
        {
          "output_type": "stream",
          "name": "stdout",
          "text": [
            "4\n",
            "1 1 1 \n",
            "2 2 2 \n",
            "3 3 3 \n"
          ]
        }
      ]
    },
    {
      "cell_type": "code",
      "source": [
        "n=int(input())\n",
        "for i in range(1,n+1):\n",
        "  for j in range(1,1+i):\n",
        "    print(j, end=\" \")\n",
        "  print()\n"
      ],
      "metadata": {
        "colab": {
          "base_uri": "https://localhost:8080/"
        },
        "id": "9FUzkkwuFQG_",
        "outputId": "717db567-b3b5-4d7f-efd5-974217104860"
      },
      "execution_count": null,
      "outputs": [
        {
          "output_type": "stream",
          "name": "stdout",
          "text": [
            "4\n",
            "1 \n",
            "1 2 \n",
            "1 2 3 \n",
            "1 2 3 4 \n"
          ]
        }
      ]
    },
    {
      "cell_type": "code",
      "source": [
        "n=int(input())\n",
        "for i in range(1,n+1):\n",
        "  for j in range(1,n+1):\n",
        "    print(j, end=\" \")\n",
        "  print()\n"
      ],
      "metadata": {
        "colab": {
          "base_uri": "https://localhost:8080/"
        },
        "id": "pifUZZx1GKGq",
        "outputId": "b7e527f5-4b1e-43d8-88be-cc9fcda2e7c6"
      },
      "execution_count": null,
      "outputs": [
        {
          "output_type": "stream",
          "name": "stdout",
          "text": [
            "4\n",
            "1 2 3 4 \n",
            "1 2 3 4 \n",
            "1 2 3 4 \n",
            "1 2 3 4 \n"
          ]
        }
      ]
    },
    {
      "cell_type": "code",
      "source": [
        "n = int(input(\"Enter a number: \"))\n",
        "pattern = \"\"\n",
        "for i in range(1, n + 1):\n",
        "    for j in range(1, i + 1):\n",
        "        pattern += str(j) + \" \"\n",
        "    pattern += \"\\n\"\n",
        "print(pattern)\n"
      ],
      "metadata": {
        "colab": {
          "base_uri": "https://localhost:8080/"
        },
        "id": "-YfGW0F1OVw5",
        "outputId": "946cdeb2-442b-4e50-d7b0-151e10624a2f"
      },
      "execution_count": null,
      "outputs": [
        {
          "output_type": "stream",
          "name": "stdout",
          "text": [
            "Enter a number: 5\n",
            "1 \n",
            "1 2 \n",
            "1 2 3 \n",
            "1 2 3 4 \n",
            "1 2 3 4 5 \n",
            "\n"
          ]
        }
      ]
    },
    {
      "cell_type": "code",
      "source": [
        "n = int(input(\"Enter a number: \"))\n",
        "pattern = \"\"\n",
        "for i in range(1, n + 1):\n",
        "    for j in range(1, i + 1):\n",
        "        if j == i or i == n:\n",
        "            pattern += str(j) + \" \"\n",
        "        else:\n",
        "            pattern += \"1 \"\n",
        "    pattern += \"\\n\"\n",
        "print(pattern)\n"
      ],
      "metadata": {
        "colab": {
          "base_uri": "https://localhost:8080/"
        },
        "id": "FhAjse2oQeLy",
        "outputId": "ac082241-fda5-4e5b-eb2b-964ffe88d21a"
      },
      "execution_count": null,
      "outputs": [
        {
          "output_type": "stream",
          "name": "stdout",
          "text": [
            "Enter a number: 5\n",
            "1 \n",
            "1 2 \n",
            "1 1 3 \n",
            "1 1 1 4 \n",
            "1 2 3 4 5 \n",
            "\n"
          ]
        }
      ]
    },
    {
      "cell_type": "code",
      "source": [
        "#positive integer of squared value\n",
        "num=int(input())\n",
        "temp=[i**2 for i in range (num)]\n",
        "print(temp)"
      ],
      "metadata": {
        "id": "IOGr8RddapoZ",
        "colab": {
          "base_uri": "https://localhost:8080/"
        },
        "outputId": "867860d1-32c9-423b-9a5d-17c50ef5d9af"
      },
      "execution_count": null,
      "outputs": [
        {
          "output_type": "stream",
          "name": "stdout",
          "text": [
            "4\n",
            "[0, 1, 4, 9]\n"
          ]
        }
      ]
    },
    {
      "cell_type": "code",
      "source": [
        "#circumference of a circle\n",
        "r=int(input())\n",
        "circumference=2*(3.14)*r\n",
        "circumference\n"
      ],
      "metadata": {
        "colab": {
          "base_uri": "https://localhost:8080/"
        },
        "id": "zqes2zhIwsWg",
        "outputId": "88dfda1d-d637-4dac-fdd2-b58568ef40c1"
      },
      "execution_count": null,
      "outputs": [
        {
          "name": "stdout",
          "output_type": "stream",
          "text": [
            "4\n"
          ]
        },
        {
          "output_type": "execute_result",
          "data": {
            "text/plain": [
              "25.12"
            ]
          },
          "metadata": {},
          "execution_count": 7
        }
      ]
    },
    {
      "cell_type": "code",
      "source": [
        "#simple interest\n",
        "p=float(input())\n",
        "n=float(input())\n",
        "r=float(input())\n",
        "simple_interest=p*n*r/100\n",
        "simple_interest"
      ],
      "metadata": {
        "colab": {
          "base_uri": "https://localhost:8080/"
        },
        "id": "K49E0-isxUFK",
        "outputId": "76b18880-5cbe-45c9-88e9-962cdebcd7cb"
      },
      "execution_count": null,
      "outputs": [
        {
          "name": "stdout",
          "output_type": "stream",
          "text": [
            "3\n",
            "4\n",
            "5\n"
          ]
        },
        {
          "output_type": "execute_result",
          "data": {
            "text/plain": [
              "0.6"
            ]
          },
          "metadata": {},
          "execution_count": 8
        }
      ]
    }
  ]
}