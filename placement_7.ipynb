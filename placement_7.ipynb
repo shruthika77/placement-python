{
  "nbformat": 4,
  "nbformat_minor": 0,
  "metadata": {
    "colab": {
      "provenance": [],
      "authorship_tag": "ABX9TyO5yYUhtmmV4EI7KgX40gAa",
      "include_colab_link": true
    },
    "kernelspec": {
      "name": "python3",
      "display_name": "Python 3"
    },
    "language_info": {
      "name": "python"
    }
  },
  "cells": [
    {
      "cell_type": "markdown",
      "metadata": {
        "id": "view-in-github",
        "colab_type": "text"
      },
      "source": [
        "<a href=\"https://colab.research.google.com/github/shruthika77/placement-python/blob/main/placement_7.ipynb\" target=\"_parent\"><img src=\"https://colab.research.google.com/assets/colab-badge.svg\" alt=\"Open In Colab\"/></a>"
      ]
    },
    {
      "cell_type": "code",
      "execution_count": null,
      "metadata": {
        "colab": {
          "base_uri": "https://localhost:8080/",
          "height": 130
        },
        "id": "dvUYrW3zaC9X",
        "outputId": "e43369be-41bf-4b55-c846-ef5e370d9a7a"
      },
      "outputs": [
        {
          "output_type": "error",
          "ename": "SyntaxError",
          "evalue": "ignored",
          "traceback": [
            "\u001b[0;36m  File \u001b[0;32m\"<ipython-input-4-2413eb7dca48>\"\u001b[0;36m, line \u001b[0;32m8\u001b[0m\n\u001b[0;31m    retrun n_elem\u001b[0m\n\u001b[0m           ^\u001b[0m\n\u001b[0;31mSyntaxError\u001b[0m\u001b[0;31m:\u001b[0m invalid syntax\n"
          ]
        }
      ],
      "source": [
        "#fuctional programming\n",
        "def main ():\n",
        "  n=int(input(\"enter the nth position for fibonacci:\"))\n",
        "  result=fibonacci_num(n)\n",
        "  print(\"The %dth number in fibonacci series is: %d\"%(n,result))#%d=integer\n",
        "def fibonacci_num(n_elem):\n",
        "    if n_elem<=1:\n",
        "      retrun n_elem\n",
        "    return fibonacci_num(n_elem-1)+fibonacci_num(n_elem-2)\n",
        "main()"
      ]
    },
    {
      "cell_type": "code",
      "source": [
        "num=int(input())\n",
        "def leap(n):\n",
        " if(n%4==0):\n",
        "  print(\"its a leap year\")\n",
        " else:\n",
        "  print(\"its not a leap year\")\n",
        "print(leap(num))"
      ],
      "metadata": {
        "colab": {
          "base_uri": "https://localhost:8080/"
        },
        "id": "ca1I2d_Ai7-4",
        "outputId": "6096b82a-00b3-4cf3-cad0-f4fd10c61f24"
      },
      "execution_count": null,
      "outputs": [
        {
          "output_type": "stream",
          "name": "stdout",
          "text": [
            "2004\n",
            "its a leap year\n",
            "None\n"
          ]
        }
      ]
    },
    {
      "cell_type": "code",
      "source": [
        "#sort\n",
        "def sort(lst):\n",
        "  sorted=[]\n",
        "  mini=lst[0]\n",
        "  for element in lst:\n",
        "    if element<mini:\n",
        "      mini=element\n",
        "      sorted.append(mini)\n",
        "  return sort(n)\n",
        "list=[8,6,1,2, 43,3, 4, 0]\n",
        "sorted(list)\n",
        "\n"
      ],
      "metadata": {
        "colab": {
          "base_uri": "https://localhost:8080/"
        },
        "id": "L0zhsZlIn-Yy",
        "outputId": "1a42d67f-dccb-4e30-965c-7788e62671d3"
      },
      "execution_count": null,
      "outputs": [
        {
          "output_type": "execute_result",
          "data": {
            "text/plain": [
              "[0, 1, 2, 3, 4, 6, 8, 43]"
            ]
          },
          "metadata": {},
          "execution_count": 16
        }
      ]
    },
    {
      "cell_type": "code",
      "source": [
        "l1=[6,3,45,2,3,4,78]\n",
        "for i in range(len(l1)):\n",
        "  for j in range(i,len(l1)):\n",
        "   if l1[i]>=l1[j]:\n",
        "    temp=l1[i]\n",
        "    l1[i]=l1[j]\n",
        "    l1[j]=temp\n",
        "print(l1)"
      ],
      "metadata": {
        "colab": {
          "base_uri": "https://localhost:8080/"
        },
        "id": "jb9QpXAGgQYJ",
        "outputId": "c57f466e-668a-4dc3-dfbb-5b0ef36f2c17"
      },
      "execution_count": null,
      "outputs": [
        {
          "output_type": "stream",
          "name": "stdout",
          "text": [
            "[2, 3, 3, 4, 6, 45, 78]\n"
          ]
        }
      ]
    },
    {
      "cell_type": "code",
      "source": [
        "num=int(input())\n",
        "def fac(n):\n",
        "  if n==1:\n",
        "    return 1\n",
        "  else:\n",
        "    return n*fac(n-1) #iteration\n",
        "print(fac(num))"
      ],
      "metadata": {
        "colab": {
          "base_uri": "https://localhost:8080/"
        },
        "id": "XjEC7nQ-f2QF",
        "outputId": "be2f9399-1030-4b0d-f034-7f43a92e50a7"
      },
      "execution_count": null,
      "outputs": [
        {
          "output_type": "stream",
          "name": "stdout",
          "text": [
            "5\n",
            "120\n"
          ]
        }
      ]
    },
    {
      "cell_type": "code",
      "source": [
        "#string compression\n",
        "s=input(\"enter the string: \")\n",
        "count=1\n",
        "for i in range(0,len(s)):\n",
        "  for j in range(i+1,len(s)-1):\n",
        "    if s[i]==s[j]:\n",
        "      count+=1\n",
        "    else:\n",
        "      count=1\n",
        "  print(s[i],count,sep=\"\",end=\"\")"
      ],
      "metadata": {
        "id": "35cOfjbB8mlX",
        "colab": {
          "base_uri": "https://localhost:8080/"
        },
        "outputId": "a5a289f3-7c72-4261-a198-6512e31ff61d"
      },
      "execution_count": null,
      "outputs": [
        {
          "output_type": "stream",
          "name": "stdout",
          "text": [
            "enter the string: sseeedddd\n",
            "s1s1e1e1e1d3d4d4d4"
          ]
        }
      ]
    },
    {
      "cell_type": "code",
      "source": [],
      "metadata": {
        "id": "W2uxiPKQZSVp"
      },
      "execution_count": null,
      "outputs": []
    },
    {
      "cell_type": "code",
      "source": [
        "str=input(\"enter two numbers:\").split()\n",
        "print(str)"
      ],
      "metadata": {
        "id": "nGBkMEvqDD6-",
        "colab": {
          "base_uri": "https://localhost:8080/"
        },
        "outputId": "6d7c4e06-8118-478f-8924-b73d44aea6e8"
      },
      "execution_count": null,
      "outputs": [
        {
          "output_type": "stream",
          "name": "stdout",
          "text": [
            "enter two numbers:4 5\n",
            "['4', '5']\n"
          ]
        }
      ]
    },
    {
      "cell_type": "code",
      "source": [
        "string=map(int,input(\"enter the numbers: \"))\n",
        "\n",
        "print(string)"
      ],
      "metadata": {
        "colab": {
          "base_uri": "https://localhost:8080/"
        },
        "id": "aUENcP5aT5D1",
        "outputId": "78140959-b63b-4c32-9d71-c5e020bfedc5"
      },
      "execution_count": null,
      "outputs": [
        {
          "output_type": "stream",
          "name": "stdout",
          "text": [
            "enter the numbers: 3 4 5 6 7 \n",
            "<map object at 0x7eb83cbc5030>\n"
          ]
        }
      ]
    },
    {
      "cell_type": "code",
      "source": [
        "def (string):\n",
        " compressed=\"\"\n",
        " count=1\n",
        " prev_string=string[0]\n",
        " for i in range(1, len(string)):\n",
        "  if string[i]==prev:\n",
        "    count+=1\n",
        "  else:\n",
        "    compressed+=(prev+str(count))*count\n",
        "    count=1\n",
        "    prev=string[i]\n",
        " compressed+=(prev+str(count)*count)\n",
        " return compressed\n",
        "string=input(\"enter the string: \")\n",
        "compressed_string=st(s)\n",
        "print(\"compressed_string\",cst )"
      ],
      "metadata": {
        "colab": {
          "base_uri": "https://localhost:8080/",
          "height": 356
        },
        "id": "RbVZ16n4Zq5_",
        "outputId": "b8eee6db-a114-49cf-863a-321bf8a4f78e"
      },
      "execution_count": null,
      "outputs": [
        {
          "name": "stdout",
          "output_type": "stream",
          "text": [
            "enter the string: seeded\n"
          ]
        },
        {
          "output_type": "error",
          "ename": "TypeError",
          "evalue": "ignored",
          "traceback": [
            "\u001b[0;31m---------------------------------------------------------------------------\u001b[0m",
            "\u001b[0;31mTypeError\u001b[0m                                 Traceback (most recent call last)",
            "\u001b[0;32m<ipython-input-11-a3a7741c096b>\u001b[0m in \u001b[0;36m<cell line: 15>\u001b[0;34m()\u001b[0m\n\u001b[1;32m     13\u001b[0m  \u001b[0;32mreturn\u001b[0m \u001b[0mcompressed\u001b[0m\u001b[0;34m\u001b[0m\u001b[0;34m\u001b[0m\u001b[0m\n\u001b[1;32m     14\u001b[0m \u001b[0ms\u001b[0m\u001b[0;34m=\u001b[0m\u001b[0minput\u001b[0m\u001b[0;34m(\u001b[0m\u001b[0;34m\"enter the string: \"\u001b[0m\u001b[0;34m)\u001b[0m\u001b[0;34m\u001b[0m\u001b[0;34m\u001b[0m\u001b[0m\n\u001b[0;32m---> 15\u001b[0;31m \u001b[0mcst\u001b[0m\u001b[0;34m=\u001b[0m\u001b[0mst\u001b[0m\u001b[0;34m(\u001b[0m\u001b[0ms\u001b[0m\u001b[0;34m)\u001b[0m\u001b[0;34m\u001b[0m\u001b[0;34m\u001b[0m\u001b[0m\n\u001b[0m\u001b[1;32m     16\u001b[0m \u001b[0mprint\u001b[0m\u001b[0;34m(\u001b[0m\u001b[0;34m\"compressed_string\"\u001b[0m\u001b[0;34m,\u001b[0m\u001b[0mcst\u001b[0m \u001b[0;34m)\u001b[0m\u001b[0;34m\u001b[0m\u001b[0;34m\u001b[0m\u001b[0m\n",
            "\u001b[0;32m<ipython-input-11-a3a7741c096b>\u001b[0m in \u001b[0;36mst\u001b[0;34m(s)\u001b[0m\n\u001b[1;32m      7\u001b[0m     \u001b[0mcount\u001b[0m\u001b[0;34m+=\u001b[0m\u001b[0;36m1\u001b[0m\u001b[0;34m\u001b[0m\u001b[0;34m\u001b[0m\u001b[0m\n\u001b[1;32m      8\u001b[0m   \u001b[0;32melse\u001b[0m\u001b[0;34m:\u001b[0m\u001b[0;34m\u001b[0m\u001b[0;34m\u001b[0m\u001b[0m\n\u001b[0;32m----> 9\u001b[0;31m     \u001b[0mcompressed\u001b[0m\u001b[0;34m+=\u001b[0m\u001b[0;34m(\u001b[0m\u001b[0mprev\u001b[0m\u001b[0;34m+\u001b[0m\u001b[0mstr\u001b[0m\u001b[0;34m(\u001b[0m\u001b[0mcount\u001b[0m\u001b[0;34m)\u001b[0m\u001b[0;34m)\u001b[0m\u001b[0;34m*\u001b[0m\u001b[0mcount\u001b[0m\u001b[0;34m\u001b[0m\u001b[0;34m\u001b[0m\u001b[0m\n\u001b[0m\u001b[1;32m     10\u001b[0m     \u001b[0mcount\u001b[0m\u001b[0;34m=\u001b[0m\u001b[0;36m1\u001b[0m\u001b[0;34m\u001b[0m\u001b[0;34m\u001b[0m\u001b[0m\n\u001b[1;32m     11\u001b[0m     \u001b[0mprev\u001b[0m\u001b[0;34m=\u001b[0m\u001b[0ms\u001b[0m\u001b[0;34m[\u001b[0m\u001b[0mi\u001b[0m\u001b[0;34m]\u001b[0m\u001b[0;34m\u001b[0m\u001b[0;34m\u001b[0m\u001b[0m\n",
            "\u001b[0;31mTypeError\u001b[0m: 'list' object is not callable"
          ]
        }
      ]
    },
    {
      "cell_type": "code",
      "source": [
        "def main():\n",
        "  base_operand,operator,secondary_operand=input(\"calculation expression\")\n",
        "  if operator==\"+\":\n",
        "    base_operand=addition(int(base_operand),int(secondary_operand))\n",
        "  pass\n",
        "def addition():\n",
        "  pass\n",
        "def subtraction():\n",
        "  pass\n",
        "def multiplication():\n",
        "  pass\n",
        "def division():\n",
        "  pass"
      ],
      "metadata": {
        "id": "2m8S9LYffyZ6"
      },
      "execution_count": null,
      "outputs": []
    },
    {
      "cell_type": "code",
      "source": [
        "# main code function\n",
        "def main():\n",
        "    base_operand, operator, secondary_operand = input(\"calculation expression with space: \").split()\n",
        "    conditions_operators_expressions(base_operand, operator, secondary_operand)\n",
        "\n",
        "\n",
        "def expression_check(expression, base_operand):\n",
        "    if expression:\n",
        "        operator, secondary_operand = expression.split()\n",
        "        conditions_operators_expressions(base_operand, operator, int(secondary_operand))\n",
        "    else:\n",
        "        print(f\"expression = {base_operand}\")\n",
        "        check_clear = input(\"continue or end (y|n): \")\n",
        "        if check_clear == \"y\":\n",
        "            main()\n",
        "        else:\n",
        "            print()\n",
        "\n",
        "\n",
        "def conditions_operators_expressions(base_operand, operator, secondary_operand):\n",
        "    if operator == \"+\":\n",
        "        base_operand = addition(int(base_operand), int(secondary_operand))\n",
        "        expression = input(f\"{base_operand} \")\n",
        "\n",
        "        expression_check(expression, base_operand)\n",
        "\n",
        "    elif operator == \"-\":\n",
        "        base_operand = subtraction(int(base_operand), int(secondary_operand))\n",
        "        expression = input(f\"{base_operand} \")\n",
        "\n",
        "        expression_check(expression, base_operand)\n",
        "\n",
        "    elif operator == \"*\":\n",
        "        base_operand = multiplication(int(base_operand), int(secondary_operand))\n",
        "        expression = input(f\"{base_operand} \")\n",
        "\n",
        "        expression_check(expression, base_operand)\n",
        "\n",
        "    elif operator == \"/\":\n",
        "        base_operand = division(int(base_operand), int(secondary_operand))\n",
        "        expression = input(f\"{base_operand} \")\n",
        "\n",
        "        expression_check(expression, base_operand)\n",
        "\n",
        "\n",
        "# functions for arithmetic operations\n",
        "\n",
        "def addition(primary, secondary):\n",
        "    return primary + secondary\n",
        "\n",
        "\n",
        "def subtraction(primary, secondary):\n",
        "    return primary - secondary\n",
        "\n",
        "\n",
        "def multiplication(primary, secondary):\n",
        "    return primary * secondary\n",
        "\n",
        "\n",
        "def division(primary, secondary):\n",
        "    return primary / secondary\n",
        "\n",
        "\n",
        "main()"
      ],
      "metadata": {
        "id": "3y7nRv78xKPz"
      },
      "execution_count": null,
      "outputs": []
    },
    {
      "cell_type": "code",
      "source": [
        "#fibonacci indef\n",
        "num=int(input())\n",
        "def fib(n):\n",
        "  if n>2:\n",
        "    return n\n",
        "  else:\n",
        "    return fib(n-1)+fib(n-2)\n",
        "print(fib(num))"
      ],
      "metadata": {
        "colab": {
          "base_uri": "https://localhost:8080/"
        },
        "id": "_TylpJlc22l_",
        "outputId": "043606a0-f7be-4b61-9198-00807ef5dd86"
      },
      "execution_count": null,
      "outputs": [
        {
          "output_type": "stream",
          "name": "stdout",
          "text": [
            " 5\n",
            "5\n"
          ]
        }
      ]
    }
  ]
}