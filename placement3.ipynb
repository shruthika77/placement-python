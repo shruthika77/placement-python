{
  "nbformat": 4,
  "nbformat_minor": 0,
  "metadata": {
    "colab": {
      "provenance": [],
      "authorship_tag": "ABX9TyMG1PItniUnqruX9Y5B7jFX",
      "include_colab_link": true
    },
    "kernelspec": {
      "name": "python3",
      "display_name": "Python 3"
    },
    "language_info": {
      "name": "python"
    }
  },
  "cells": [
    {
      "cell_type": "markdown",
      "metadata": {
        "id": "view-in-github",
        "colab_type": "text"
      },
      "source": [
        "<a href=\"https://colab.research.google.com/github/shruthika77/placement-python/blob/main/placement3.ipynb\" target=\"_parent\"><img src=\"https://colab.research.google.com/assets/colab-badge.svg\" alt=\"Open In Colab\"/></a>"
      ]
    },
    {
      "cell_type": "code",
      "execution_count": null,
      "metadata": {
        "colab": {
          "base_uri": "https://localhost:8080/"
        },
        "id": "osYEA5_cl3Ih",
        "outputId": "c61c6014-5782-428d-f908-52fa9af2f9b3"
      },
      "outputs": [
        {
          "output_type": "stream",
          "name": "stdout",
          "text": [
            "darshana\n",
            "d\n",
            "ad\n",
            "rad\n",
            "srad\n",
            "hsrad\n",
            "ahsrad\n",
            "nahsrad\n",
            "anahsrad\n"
          ]
        }
      ],
      "source": [
        "#reverse a number without a typecast or without str() function\n",
        "string= input()\n",
        "rev=\"\"\n",
        "for i in string:\n",
        "  rev=i+rev\n",
        "  print(rev)\n",
        "\n"
      ]
    },
    {
      "cell_type": "code",
      "source": [
        "x=3\n",
        "y=5\n",
        "sub=x+(~y+1)\n",
        "print(sub)"
      ],
      "metadata": {
        "colab": {
          "base_uri": "https://localhost:8080/"
        },
        "id": "UVyb5848eA-m",
        "outputId": "8de97831-488d-4cb5-9638-e6c6e155da15"
      },
      "execution_count": null,
      "outputs": [
        {
          "output_type": "stream",
          "name": "stdout",
          "text": [
            "-2\n"
          ]
        }
      ]
    },
    {
      "cell_type": "code",
      "source": [],
      "metadata": {
        "id": "2eySDjJsK7yd"
      },
      "execution_count": null,
      "outputs": []
    },
    {
      "cell_type": "code",
      "source": [
        "#find the each digit of the number one by one without using typecasting\n",
        "num= int(input())\n"
      ],
      "metadata": {
        "id": "3FY0akYNEl1t"
      },
      "execution_count": null,
      "outputs": []
    },
    {
      "cell_type": "code",
      "source": [
        "#reverse a string without step index\n"
      ],
      "metadata": {
        "id": "c18AhdICnZa3"
      },
      "execution_count": null,
      "outputs": []
    },
    {
      "cell_type": "code",
      "source": [
        "#find the number is perfect number\n",
        "n=int(input())\n",
        "out=0\n",
        "for i in range(1,n//2+1):\n",
        "  if(n%i==0):\n",
        "    out+=i\n",
        "if out==n:\n",
        "  print(\"its a perfect num\")\n",
        "else:\n",
        "  print(\"its not a perfect num\")\n"
      ],
      "metadata": {
        "colab": {
          "base_uri": "https://localhost:8080/"
        },
        "id": "mPAQnKykngv4",
        "outputId": "9c5ce176-2f8e-4a2a-e849-f12ea9aa6f94"
      },
      "execution_count": null,
      "outputs": [
        {
          "output_type": "stream",
          "name": "stdout",
          "text": [
            "6\n",
            "its a perfect num\n"
          ]
        }
      ]
    },
    {
      "cell_type": "code",
      "source": [
        "n=int(input())\n",
        "out=0\n",
        "for i in range(1,n//2+1):\n",
        "  if(n%i==0):\n",
        "  out+=i\n",
        "if out==n:\n",
        "  print(\"perfect\")\n",
        "else:\n",
        "  print(\"not perfect\")"
      ],
      "metadata": {
        "colab": {
          "base_uri": "https://localhost:8080/"
        },
        "id": "4euDmzNLlylG",
        "outputId": "b323a71f-02d3-4127-b77c-aa357abf8d12"
      },
      "execution_count": null,
      "outputs": [
        {
          "output_type": "stream",
          "name": "stdout",
          "text": [
            "6\n",
            "perfect\n"
          ]
        }
      ]
    },
    {
      "cell_type": "code",
      "source": [
        "#check whether the number is a armstrong number"
      ],
      "metadata": {
        "id": "5l1jXdknnoaf"
      },
      "execution_count": null,
      "outputs": []
    },
    {
      "cell_type": "code",
      "source": [
        "#check if the given number is a binary number"
      ],
      "metadata": {
        "id": "8r6kMnicnwk0"
      },
      "execution_count": null,
      "outputs": []
    },
    {
      "cell_type": "code",
      "source": [
        "#print string without step index\n",
        "string= input()\n",
        "string[: :]\n"
      ],
      "metadata": {
        "colab": {
          "base_uri": "https://localhost:8080/",
          "height": 53
        },
        "id": "lW4NKk7ApUZY",
        "outputId": "8d2719a5-8d18-45e2-d0f0-0e999bc1dbbc"
      },
      "execution_count": null,
      "outputs": [
        {
          "name": "stdout",
          "output_type": "stream",
          "text": [
            "345\n"
          ]
        },
        {
          "output_type": "execute_result",
          "data": {
            "text/plain": [
              "'345'"
            ],
            "application/vnd.google.colaboratory.intrinsic+json": {
              "type": "string"
            }
          },
          "metadata": {},
          "execution_count": 5
        }
      ]
    },
    {
      "cell_type": "code",
      "source": [
        "list=[1,2,3,4,5]\n",
        "list.append(\"computer\")\n",
        "list.remove(\"computer\")\n",
        "list.pop()\n",
        "list[2]=6\n",
        "list"
      ],
      "metadata": {
        "colab": {
          "base_uri": "https://localhost:8080/"
        },
        "id": "doOyKgjq_akq",
        "outputId": "1f747ff9-40d4-4578-a3c1-c5b3f744c3cb"
      },
      "execution_count": null,
      "outputs": [
        {
          "output_type": "execute_result",
          "data": {
            "text/plain": [
              "[1, 2, 6, 4]"
            ]
          },
          "metadata": {},
          "execution_count": 29
        }
      ]
    },
    {
      "cell_type": "code",
      "source": [
        "list.sort()\n",
        "list"
      ],
      "metadata": {
        "colab": {
          "base_uri": "https://localhost:8080/"
        },
        "id": "yHx5DTgt_pdC",
        "outputId": "d8b073ad-1d73-4c8d-dbf1-0f2f8ebdb690"
      },
      "execution_count": null,
      "outputs": [
        {
          "output_type": "execute_result",
          "data": {
            "text/plain": [
              "[1, 2, 4, 6]"
            ]
          },
          "metadata": {},
          "execution_count": 31
        }
      ]
    },
    {
      "cell_type": "code",
      "source": [
        "list1=[6,7,8,9,0]\n",
        "list.extend(list1)\n",
        "list"
      ],
      "metadata": {
        "colab": {
          "base_uri": "https://localhost:8080/"
        },
        "id": "72iTXAyKAZ_5",
        "outputId": "04a6e484-36e0-4877-ae07-5b588115917c"
      },
      "execution_count": null,
      "outputs": [
        {
          "output_type": "execute_result",
          "data": {
            "text/plain": [
              "[1, 2, 2, 2, 4, 6, 6, 7, 8, 9, 0, 6, 7, 8, 9, 0]"
            ]
          },
          "metadata": {},
          "execution_count": 39
        }
      ]
    },
    {
      "cell_type": "code",
      "source": [
        "list.insert(1,2)\n",
        "list"
      ],
      "metadata": {
        "colab": {
          "base_uri": "https://localhost:8080/"
        },
        "id": "Nmf-ZyvYFl3i",
        "outputId": "af22c2cf-eaff-4b8c-8fb3-4962123c26e1"
      },
      "execution_count": null,
      "outputs": [
        {
          "output_type": "execute_result",
          "data": {
            "text/plain": [
              "[1, 2, 2, 2, 4, 6]"
            ]
          },
          "metadata": {},
          "execution_count": 36
        }
      ]
    },
    {
      "cell_type": "code",
      "source": [
        "list.clear()\n",
        "list"
      ],
      "metadata": {
        "colab": {
          "base_uri": "https://localhost:8080/"
        },
        "id": "PlSlcIH3GC8d",
        "outputId": "0e14f397-f934-4ed5-aee2-3520884c7bbb"
      },
      "execution_count": null,
      "outputs": [
        {
          "output_type": "execute_result",
          "data": {
            "text/plain": [
              "[]"
            ]
          },
          "metadata": {},
          "execution_count": 41
        }
      ]
    },
    {
      "cell_type": "code",
      "source": [
        "#find which divisors of two numbers are same\n",
        "a= int(input(\"enter the number1 \"))\n",
        "b=int(input(\"enter the number2 \"))\n",
        "n=max(a,b)\n",
        "for i in range (2,n+1):\n",
        " if(a%i==0 and b%i==0):\n",
        "  print(i)\n"
      ],
      "metadata": {
        "colab": {
          "base_uri": "https://localhost:8080/"
        },
        "id": "IXv1whoVYtOf",
        "outputId": "8fd78250-b9bc-45c4-b2f3-7ecad88bfc20"
      },
      "execution_count": null,
      "outputs": [
        {
          "output_type": "stream",
          "name": "stdout",
          "text": [
            "enter the number1 8\n",
            "enter the number2 4\n",
            "2\n",
            "4\n"
          ]
        }
      ]
    },
    {
      "cell_type": "code",
      "source": [
        "#print the pattern\n",
        "string= input()\n",
        "nen=\"\"\n",
        "for i in string:\n",
        "  nen=nen+i\n",
        "  print(nen)\n",
        "\n"
      ],
      "metadata": {
        "colab": {
          "base_uri": "https://localhost:8080/"
        },
        "id": "LbBSqEQur6YG",
        "outputId": "fea2020b-3a83-44a8-defe-f08c01b36d44"
      },
      "execution_count": null,
      "outputs": [
        {
          "output_type": "stream",
          "name": "stdout",
          "text": [
            "721821243047\n",
            "7\n",
            "72\n",
            "721\n",
            "7218\n",
            "72182\n",
            "721821\n",
            "7218212\n",
            "72182124\n",
            "721821243\n",
            "7218212430\n",
            "72182124304\n",
            "721821243047\n"
          ]
        }
      ]
    },
    {
      "cell_type": "code",
      "source": [
        "a=int(input())\n",
        "b=int(input())\n",
        "carry = a & b\n",
        "a = a ^ b\n",
        "b = carry << 1\n",
        "\n"
      ],
      "metadata": {
        "colab": {
          "base_uri": "https://localhost:8080/"
        },
        "id": "13-ulmwjLd1t",
        "outputId": "65a4b618-630e-4d3b-ca62-2b101153d6c8"
      },
      "execution_count": null,
      "outputs": [
        {
          "name": "stdout",
          "output_type": "stream",
          "text": [
            "5\n",
            "6\n"
          ]
        },
        {
          "output_type": "execute_result",
          "data": {
            "text/plain": [
              "8"
            ]
          },
          "metadata": {},
          "execution_count": 4
        }
      ]
    },
    {
      "cell_type": "code",
      "source": [
        "1<<1\n"
      ],
      "metadata": {
        "colab": {
          "base_uri": "https://localhost:8080/"
        },
        "id": "1jsSdlbyMTJc",
        "outputId": "2cf67a78-55a0-4426-bad3-49f934ec73e3"
      },
      "execution_count": null,
      "outputs": [
        {
          "output_type": "execute_result",
          "data": {
            "text/plain": [
              "2"
            ]
          },
          "metadata": {},
          "execution_count": 2
        }
      ]
    },
    {
      "cell_type": "code",
      "source": [
        "a=int(input())\n",
        "b=int(input())\n",
        "while a != 0:\n",
        "        carry = a & b\n",
        "        b = a ^ b\n",
        "        a = carry << 1\n",
        "print(b)\n",
        "\n"
      ],
      "metadata": {
        "colab": {
          "base_uri": "https://localhost:8080/"
        },
        "id": "Vtl5gssbMohd",
        "outputId": "34c823b4-e3d8-4076-a953-66ad8de464a4"
      },
      "execution_count": null,
      "outputs": [
        {
          "output_type": "stream",
          "name": "stdout",
          "text": [
            "5\n",
            "10\n",
            "15\n"
          ]
        }
      ]
    },
    {
      "cell_type": "code",
      "source": [
        "3^0"
      ],
      "metadata": {
        "colab": {
          "base_uri": "https://localhost:8080/"
        },
        "id": "Ex6cMcrfOuHu",
        "outputId": "7c5c4e9d-74c1-4747-c6c9-8c129ce0ce1f"
      },
      "execution_count": null,
      "outputs": [
        {
          "output_type": "execute_result",
          "data": {
            "text/plain": [
              "3"
            ]
          },
          "metadata": {},
          "execution_count": 32
        }
      ]
    },
    {
      "cell_type": "code",
      "source": [
        "2<<1"
      ],
      "metadata": {
        "colab": {
          "base_uri": "https://localhost:8080/"
        },
        "id": "DGhR93nrQLOH",
        "outputId": "1543efef-a4cb-4be2-e9f5-19d4014c4ea4"
      },
      "execution_count": null,
      "outputs": [
        {
          "output_type": "execute_result",
          "data": {
            "text/plain": [
              "4"
            ]
          },
          "metadata": {},
          "execution_count": 28
        }
      ]
    },
    {
      "cell_type": "code",
      "source": [
        "3&4"
      ],
      "metadata": {
        "colab": {
          "base_uri": "https://localhost:8080/"
        },
        "id": "k2jBmt9nSLs0",
        "outputId": "3d4c8346-0aa0-4b02-b735-8b01c53a74b4"
      },
      "execution_count": null,
      "outputs": [
        {
          "output_type": "execute_result",
          "data": {
            "text/plain": [
              "0"
            ]
          },
          "metadata": {},
          "execution_count": 20
        }
      ]
    },
    {
      "cell_type": "code",
      "source": [
        "#multiply\n",
        "a=int(input())\n",
        "b=int(input())\n",
        "temp=0\n",
        "for i in range(1,a+1):\n",
        "  temp+=b\n",
        "print(temp)"
      ],
      "metadata": {
        "colab": {
          "base_uri": "https://localhost:8080/"
        },
        "id": "EdcUVawxNKpL",
        "outputId": "92dc21e7-a70a-4308-e0b3-0c0ab8be2e48"
      },
      "execution_count": null,
      "outputs": [
        {
          "output_type": "stream",
          "name": "stdout",
          "text": [
            "7\n",
            "5\n",
            "35\n"
          ]
        }
      ]
    },
    {
      "cell_type": "code",
      "source": [
        "n1=int(input())\n",
        "n2=int(input())\n",
        "temp=0\n",
        "s=min(n1,n2)\n",
        "while(temp<n2):\n",
        "   temp+=s\n",
        "if(temp==0 or temp<s):\n",
        "  print(temp)"
      ],
      "metadata": {
        "colab": {
          "base_uri": "https://localhost:8080/"
        },
        "id": "TObUMXyiO-3h",
        "outputId": "13aa11cd-cbe9-4f4c-ca54-e27043fcfe4f"
      },
      "execution_count": null,
      "outputs": [
        {
          "name": "stdout",
          "output_type": "stream",
          "text": [
            "6\n",
            "9\n"
          ]
        }
      ]
    },
    {
      "cell_type": "code",
      "source": [
        "a=int(input())\n",
        "b=int(input())\n",
        "for i in range(2,a):\n",
        "  if(a%i==0 and b%i==0):\n",
        "    print(i)"
      ],
      "metadata": {
        "id": "TJRWRSvJOT3P",
        "colab": {
          "base_uri": "https://localhost:8080/"
        },
        "outputId": "e69c5a88-6084-47b4-d4ad-3f61745c1df9"
      },
      "execution_count": null,
      "outputs": [
        {
          "output_type": "stream",
          "name": "stdout",
          "text": [
            "8\n",
            "4\n",
            "2\n",
            "4\n"
          ]
        }
      ]
    }
  ]
}