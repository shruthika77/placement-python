{
  "nbformat": 4,
  "nbformat_minor": 0,
  "metadata": {
    "colab": {
      "provenance": [],
      "authorship_tag": "ABX9TyODZ7RQ0L2I4NEYy3tRHmtk",
      "include_colab_link": true
    },
    "kernelspec": {
      "name": "python3",
      "display_name": "Python 3"
    },
    "language_info": {
      "name": "python"
    }
  },
  "cells": [
    {
      "cell_type": "markdown",
      "metadata": {
        "id": "view-in-github",
        "colab_type": "text"
      },
      "source": [
        "<a href=\"https://colab.research.google.com/github/shruthika77/placement-python/blob/main/placement8.ipynb\" target=\"_parent\"><img src=\"https://colab.research.google.com/assets/colab-badge.svg\" alt=\"Open In Colab\"/></a>"
      ]
    },
    {
      "cell_type": "code",
      "execution_count": null,
      "metadata": {
        "colab": {
          "base_uri": "https://localhost:8080/"
        },
        "id": "NFCM-a1ao6YL",
        "outputId": "7ff8d4fa-7b10-4f36-8b04-3e8513de4dd5"
      },
      "outputs": [
        {
          "output_type": "stream",
          "name": "stdout",
          "text": [
            "()\n",
            "valid\n"
          ]
        }
      ],
      "source": [
        " #check string of brackets is valid\n",
        "n=input()\n",
        "\n",
        "if n==\"{}\" or n==\"[]\" or n==\"()\":\n",
        "  print(\"valid\")\n",
        "else:\n",
        "  print(\"invalid\")\n",
        "\n",
        "\n"
      ]
    },
    {
      "cell_type": "code",
      "source": [
        "## COMBINATIONS\n",
        "\n",
        "\n",
        "\n",
        "def fact(s):\n",
        "    if s == 0:\n",
        "     return 1\n",
        "    else:\n",
        "     return s*fact(s-1)\n",
        "\n",
        "\n",
        "def combinations(string,r,comb_str= '',k=0) :\n",
        "\n",
        "    if r == 0:\n",
        "        print(comb_str)\n",
        "        return\n",
        "    for i in range(k,len(string)):\n",
        "        combinations(string, r - 1, comb_str + string[i], i + 1)\n",
        "\n",
        "string = input(\"Enter your string for performing combinations with string's characters : \")\n",
        "n = len(string)\n",
        "#r = int(input('\\nEnter  choice length : '))\n",
        "for r in range(1,n+1):\n",
        "    nc = fact(n)//(fact(r)*fact(n-r))\n",
        "    print('\\nNo. of combinations possible with %d length = %d'%(r,nc))\n",
        "    combinations(string,r)"
      ],
      "metadata": {
        "colab": {
          "base_uri": "https://localhost:8080/"
        },
        "id": "GWwKaHrMX80O",
        "outputId": "f10fcdc3-4339-4e2e-d72e-49aa6ecad096"
      },
      "execution_count": null,
      "outputs": [
        {
          "output_type": "stream",
          "name": "stdout",
          "text": [
            "Enter your string for performing combinations with string's characters : abc\n",
            "\n",
            "No. of combinations possible with 1 length = 3\n",
            "a\n",
            "b\n",
            "c\n",
            "\n",
            "No. of combinations possible with 2 length = 3\n",
            "ab\n",
            "ac\n",
            "bc\n",
            "\n",
            "No. of combinations possible with 3 length = 1\n",
            "abc\n"
          ]
        }
      ]
    },
    {
      "cell_type": "code",
      "source": [],
      "metadata": {
        "id": "Tz55xiPopvhQ"
      },
      "execution_count": null,
      "outputs": []
    },
    {
      "cell_type": "code",
      "source": [
        "string=input(\"enter brackets\")\n",
        "open_brackets=[]\n",
        "flag=True\n",
        "for char in string:\n",
        "  if char in (\"{\",\"[\",\"(\"):\n",
        "    open_brackets.append(char)\n",
        "  elif char==\"}\" and open_brackets[-1]==\"{\":\n",
        "    open_brackets.pop()\n",
        "  elif char==\")\" and open_brackets[-1]==\"(\":\n",
        "    open_brackets.pop()\n",
        "  elif char==\"]\" and open_brackets[-1]==\"[\":\n",
        "    open_brackets.pop()\n",
        "  else:\n",
        "      print(\"you input string is not acceptable\")\n",
        "      flag=False\n",
        "      break\n",
        "if open_brackets:\n",
        "    print(\"invalid\")\n",
        "else:\n",
        "    print(\"valid\")"
      ],
      "metadata": {
        "colab": {
          "base_uri": "https://localhost:8080/"
        },
        "id": "ELUT6hPJunGZ",
        "outputId": "538cb06c-5669-4548-8fc2-3eb483af6b92"
      },
      "execution_count": null,
      "outputs": [
        {
          "output_type": "stream",
          "name": "stdout",
          "text": [
            "enter brackets{{]]\n",
            "you input string is not acceptable\n",
            "invalid\n"
          ]
        }
      ]
    },
    {
      "cell_type": "code",
      "source": [
        "#find possible combination of string in all length\n",
        "n=input()\n",
        "list[i,for i in n]"
      ],
      "metadata": {
        "id": "hpTkXE8MpV4p"
      },
      "execution_count": null,
      "outputs": []
    },
    {
      "cell_type": "code",
      "source": [
        "n=input()\n",
        "list=[]\n",
        "for i in n:\n",
        "  list.append(i)\n",
        "  for j in range(len(list)+1):\n",
        "    for k in range(1,len(list)):\n",
        "      if(list[j]==\"[\" and list[k]==\"]\") or(list[j]==\"{\" and list[k]==\"}\") or (list[j]==\"(\" and list[k]==\")\"):\n",
        "        print(\"valid\")\n",
        "      else:\n",
        "        print(\"invalid\")"
      ],
      "metadata": {
        "id": "MYnOPKSm3Obb"
      },
      "execution_count": null,
      "outputs": []
    },
    {
      "cell_type": "code",
      "source": [
        "def permutation(text,length,result):\n",
        "  if length==0:\n",
        "    list_result.append(result[:])\n",
        "    return\n",
        "  for char in text:\n",
        "    if char not in resukt:\n",
        "      permutation(text,length-1,reult+[char])\n",
        "\n",
        "string=input(\"enter the string:\")\n",
        "permutations_library={}\n",
        "for i in range(1,len(string)+1):\n",
        "  list_result=[]\n",
        "  permutation(string,i,[])\n"
      ],
      "metadata": {
        "id": "YyaO_uW5kXoK"
      },
      "execution_count": null,
      "outputs": []
    },
    {
      "cell_type": "code",
      "source": [
        "\n",
        "def permutations(text, length, result):\n",
        "    if length == 0:\n",
        "        list_result.append(result[:])\n",
        "        return\n",
        "\n",
        "    for char in text:\n",
        "        if char not in result:\n",
        "            permutations(text, length-1, result + [char])\n",
        "\n",
        "\n",
        "string = input(\"enter the string : \")\n",
        "permutations_library = {}\n",
        "for i in range(1, len(string)+1):\n",
        "    list_result = []\n",
        "    permutations(string, i, [])\n",
        "    permutations_library[f\"{i} length permutations\"] = list_result\n",
        "\n",
        "\n",
        "print(permutations_library)"
      ],
      "metadata": {
        "colab": {
          "base_uri": "https://localhost:8080/"
        },
        "id": "mMd112wEtHjF",
        "outputId": "bd2271b4-80de-4360-9487-0e30a00ad874"
      },
      "execution_count": null,
      "outputs": [
        {
          "output_type": "stream",
          "name": "stdout",
          "text": [
            "enter the string : abc\n",
            "{'1 length permutations': [['a'], ['b'], ['c']], '2 length permutations': [['a', 'b'], ['a', 'c'], ['b', 'a'], ['b', 'c'], ['c', 'a'], ['c', 'b']], '3 length permutations': [['a', 'b', 'c'], ['a', 'c', 'b'], ['b', 'a', 'c'], ['b', 'c', 'a'], ['c', 'a', 'b'], ['c', 'b', 'a']]}\n"
          ]
        }
      ]
    },
    {
      "cell_type": "code",
      "source": [
        "string=input()\n",
        "str=string.split()\n",
        "list=[]\n",
        "list.append(str)\n",
        "a=len(list)\n",
        "for i in range()\n"
      ],
      "metadata": {
        "id": "JpMokOOy-AT7",
        "colab": {
          "base_uri": "https://localhost:8080/"
        },
        "outputId": "c2bcb0b2-72b1-40cc-f7c5-e7df76c180e2"
      },
      "execution_count": null,
      "outputs": [
        {
          "name": "stdout",
          "output_type": "stream",
          "text": [
            "abc\n"
          ]
        }
      ]
    }
  ]
}