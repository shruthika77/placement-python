{
  "nbformat": 4,
  "nbformat_minor": 0,
  "metadata": {
    "colab": {
      "provenance": [],
      "authorship_tag": "ABX9TyOwgd61tqy/EXxvKiSRX95f",
      "include_colab_link": true
    },
    "kernelspec": {
      "name": "python3",
      "display_name": "Python 3"
    },
    "language_info": {
      "name": "python"
    }
  },
  "cells": [
    {
      "cell_type": "markdown",
      "metadata": {
        "id": "view-in-github",
        "colab_type": "text"
      },
      "source": [
        "<a href=\"https://colab.research.google.com/github/shruthika77/placement-python/blob/main/Placement1.ipynb\" target=\"_parent\"><img src=\"https://colab.research.google.com/assets/colab-badge.svg\" alt=\"Open In Colab\"/></a>"
      ]
    },
    {
      "cell_type": "code",
      "execution_count": null,
      "metadata": {
        "colab": {
          "base_uri": "https://localhost:8080/"
        },
        "id": "b_EZ2_tHHey2",
        "outputId": "a99cfd95-0d25-42a9-87e4-32f75bda441b"
      },
      "outputs": [
        {
          "output_type": "stream",
          "name": "stdout",
          "text": [
            "3\n",
            "1 1\n",
            "3 2\n",
            "6 3\n",
            "enter the sum of the range 6\n"
          ]
        }
      ],
      "source": [
        "#sum of the numbers in the range\n",
        "n=int(input())\n",
        "sum=0\n",
        "for i in range(1,n+1):\n",
        "  sum+=i\n",
        "  print(sum,i)\n",
        "print('enter the sum of the range',sum)\n"
      ]
    },
    {
      "cell_type": "code",
      "source": [
        "input_string = input(\"Enter a list of values separated by commas: \")\n",
        "input_list = input_string.split(\",\")\n",
        "\n",
        "# Remove leading/trailing whitespaces from each element in the list\n",
        "input_list = [value.strip() for value in input_list]\n",
        "print(\"Input List:\", input_list)\n"
      ],
      "metadata": {
        "id": "pz5j2P3XwtVf",
        "colab": {
          "base_uri": "https://localhost:8080/"
        },
        "outputId": "d5923fcc-4573-4bfd-91ad-adc1ca0b55eb"
      },
      "execution_count": null,
      "outputs": [
        {
          "output_type": "stream",
          "name": "stdout",
          "text": [
            "Enter a list of values separated by commas: 8,9\n",
            "Input List: ['8', '9']\n"
          ]
        }
      ]
    },
    {
      "cell_type": "code",
      "source": [
        "#use this function instead of len()\n",
        "list1=[1,2,3,4,5]\n",
        "count=0\n",
        "for i in list1:\n",
        "  count+=1\n",
        "print(count)\n"
      ],
      "metadata": {
        "colab": {
          "base_uri": "https://localhost:8080/"
        },
        "id": "bQp_U6I3eD4T",
        "outputId": "27eaba51-0884-443e-bbd4-c042fcee52ab"
      },
      "execution_count": null,
      "outputs": [
        {
          "output_type": "stream",
          "name": "stdout",
          "text": [
            "5\n"
          ]
        }
      ]
    },
    {
      "cell_type": "code",
      "source": [
        "#average of number series\n",
        "a=int(input())\n",
        "sum=0\n",
        "count=0\n",
        "for i in range(a):\n",
        "  sum+=i\n",
        "  count+=1\n",
        "avg=sum/count\n",
        "print(avg)\n"
      ],
      "metadata": {
        "colab": {
          "base_uri": "https://localhost:8080/"
        },
        "id": "TSRo6LAGeyJ8",
        "outputId": "48b23a01-f46a-405f-8e30-bb367ce01eae"
      },
      "execution_count": null,
      "outputs": [
        {
          "output_type": "stream",
          "name": "stdout",
          "text": [
            "5\n",
            "2.0\n"
          ]
        }
      ]
    },
    {
      "cell_type": "code",
      "source": [
        "#remove whitespace\n",
        "n=(input())\n",
        "s=n.replace(\" \",\"\")\n",
        "s"
      ],
      "metadata": {
        "colab": {
          "base_uri": "https://localhost:8080/",
          "height": 53
        },
        "id": "g3j7Dp3Wd03r",
        "outputId": "ca7f3253-98f8-4490-fb8f-945063f335f1"
      },
      "execution_count": null,
      "outputs": [
        {
          "name": "stdout",
          "output_type": "stream",
          "text": [
            "dhf vuul\n"
          ]
        },
        {
          "output_type": "execute_result",
          "data": {
            "text/plain": [
              "'dhfvuul'"
            ],
            "application/vnd.google.colaboratory.intrinsic+json": {
              "type": "string"
            }
          },
          "metadata": {},
          "execution_count": 4
        }
      ]
    },
    {
      "cell_type": "code",
      "source": [
        "import re\n",
        "string=input()\n",
        "pattern = re.compile(r'\\s+')\n",
        "print(re.sub(pattern, '', string))\n"
      ],
      "metadata": {
        "colab": {
          "base_uri": "https://localhost:8080/"
        },
        "id": "dos6ilrwhddX",
        "outputId": "48f3551a-9676-4072-d4f1-8dcc5671efc3"
      },
      "execution_count": null,
      "outputs": [
        {
          "output_type": "stream",
          "name": "stdout",
          "text": [
            "kjhbgy t7yu   iu\n",
            "kjhbgyt7yuiu\n"
          ]
        }
      ]
    },
    {
      "cell_type": "code",
      "source": [
        "#find the duplicates\n",
        "string=input()\n",
        "for i in string:\n",
        "  count=0\n",
        "  for j in string:\n",
        "    if (i==j):\n",
        "       count+=1\n",
        "if(count>=2):\n",
        "    print(\"duplicate\")\n",
        "else:\n",
        "  print(\"not duplicate\")\n"
      ],
      "metadata": {
        "colab": {
          "base_uri": "https://localhost:8080/"
        },
        "id": "IZMij1jPfpIo",
        "outputId": "f89637c1-b4a0-4dda-8cd0-1a1829d163f2"
      },
      "execution_count": null,
      "outputs": [
        {
          "output_type": "stream",
          "name": "stdout",
          "text": [
            "abcs\n",
            "not duplicate\n"
          ]
        }
      ]
    },
    {
      "cell_type": "code",
      "source": [
        "def bubble_sort(lst):\n",
        "    n = len(lst)\n",
        "    for i in range(n - 1):\n",
        "        for j in range(n - i - 1):\n",
        "            if lst[j] > lst[j + 1]:\n",
        "                lst[j], lst[j + 1] = lst[j + 1], lst[j]\n",
        "\n",
        "my_list = [5, 3, 8, 2, 1]\n",
        "bubble_sort(my_list)\n",
        "print(\"Sorted List:\", my_list)\n"
      ],
      "metadata": {
        "colab": {
          "base_uri": "https://localhost:8080/"
        },
        "id": "Y0jfgmbQnkyU",
        "outputId": "b211b181-67f8-41b9-f100-0bd5aac7bbb1"
      },
      "execution_count": null,
      "outputs": [
        {
          "output_type": "stream",
          "name": "stdout",
          "text": [
            "Sorted List: [1, 2, 3, 5, 8]\n"
          ]
        }
      ]
    },
    {
      "cell_type": "code",
      "source": [
        "def sort_list(lst):\n",
        "    sorted_list = []\n",
        "    while lst:\n",
        "        minimum = lst[0]\n",
        "        for item in lst:\n",
        "            if item < minimum:\n",
        "                minimum = item\n",
        "        sorted_list.append(minimum)\n",
        "        lst.remove(minimum)\n",
        "    return sorted_list\n",
        "\n",
        "my_list = [5, 3, 8, 2, 1]\n",
        "sort_list(my_list)\n",
        "\n"
      ],
      "metadata": {
        "colab": {
          "base_uri": "https://localhost:8080/"
        },
        "id": "vTG5ruQxq9BD",
        "outputId": "6f61d512-a54f-4ec8-81f6-7da1d68ac18e"
      },
      "execution_count": null,
      "outputs": [
        {
          "output_type": "execute_result",
          "data": {
            "text/plain": [
              "[1, 2, 3, 5, 8]"
            ]
          },
          "metadata": {},
          "execution_count": 29
        }
      ]
    },
    {
      "cell_type": "code",
      "source": [
        "n= int(input())\n",
        "if(n%n==0 and n)"
      ],
      "metadata": {
        "id": "RsYf-oVbsQbv"
      },
      "execution_count": null,
      "outputs": []
    },
    {
      "cell_type": "code",
      "source": [
        "#fibanocci series\n",
        "a=0\n",
        "b=1\n",
        "n=int(input())\n",
        "if n==0:\n",
        "  print(a)\n",
        "if n==1:\n",
        "  print(b)\n",
        "else:\n",
        "  for i in range (2,n+1):\n",
        "    c=a+b\n",
        "    a=b\n",
        "    b=c\n",
        "print(c)\n",
        "\n",
        "\n"
      ],
      "metadata": {
        "id": "kAg8OBJnq9H5",
        "colab": {
          "base_uri": "https://localhost:8080/"
        },
        "outputId": "0310d2f4-bbea-4842-c356-fec2cd690491"
      },
      "execution_count": null,
      "outputs": [
        {
          "output_type": "stream",
          "name": "stdout",
          "text": [
            "6\n",
            "8\n"
          ]
        }
      ]
    }
  ]
}