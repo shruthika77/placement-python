{
  "nbformat": 4,
  "nbformat_minor": 0,
  "metadata": {
    "colab": {
      "provenance": [],
      "authorship_tag": "ABX9TyPYfb6a2Tfz8r6wNltlDi4I",
      "include_colab_link": true
    },
    "kernelspec": {
      "name": "python3",
      "display_name": "Python 3"
    },
    "language_info": {
      "name": "python"
    }
  },
  "cells": [
    {
      "cell_type": "markdown",
      "metadata": {
        "id": "view-in-github",
        "colab_type": "text"
      },
      "source": [
        "<a href=\"https://colab.research.google.com/github/shruthika77/placement-python/blob/main/placement4.ipynb\" target=\"_parent\"><img src=\"https://colab.research.google.com/assets/colab-badge.svg\" alt=\"Open In Colab\"/></a>"
      ]
    },
    {
      "cell_type": "code",
      "execution_count": null,
      "metadata": {
        "colab": {
          "base_uri": "https://localhost:8080/"
        },
        "id": "iTuoEfmAF0gU",
        "outputId": "9d43c8d6-526f-441c-ddcf-60b77803ed84"
      },
      "outputs": [
        {
          "output_type": "stream",
          "name": "stdout",
          "text": [
            "5\n",
            "* \n",
            "* * \n",
            "* * * \n",
            "* * * * \n",
            "* * * * * \n"
          ]
        }
      ],
      "source": [
        "  n=int(input())\n",
        "for i in range(1,n+1):\n",
        "  for j in range(1,i+1):\n",
        "    print(\"*\",end=\" \")\n",
        "  print()\n",
        "  #end=newline or space"
      ]
    },
    {
      "cell_type": "code",
      "source": [],
      "metadata": {
        "id": "f3BU2iQAWQfg"
      },
      "execution_count": null,
      "outputs": []
    },
    {
      "cell_type": "code",
      "source": [
        "n= int(input())\n",
        "for i in range(0,n):\n",
        "  for j in range(0,n-i):\n",
        "    print(\"*\",end=\" \")\n",
        "  print()"
      ],
      "metadata": {
        "colab": {
          "base_uri": "https://localhost:8080/"
        },
        "id": "fzHGZyxGIANb",
        "outputId": "7e6c8f73-fe16-41b8-ab79-2ac5cccb448a"
      },
      "execution_count": null,
      "outputs": [
        {
          "output_type": "stream",
          "name": "stdout",
          "text": [
            "5\n",
            "* * * * * \n",
            "* * * * \n",
            "* * * \n",
            "* * \n",
            "* \n"
          ]
        }
      ]
    },
    {
      "cell_type": "code",
      "source": [
        "n= int(input())\n",
        "for i in range(n):\n",
        "  for j in range(n):\n",
        "    print(\"2\",end=\" \")\n",
        "  print()"
      ],
      "metadata": {
        "colab": {
          "base_uri": "https://localhost:8080/"
        },
        "id": "H2v91JKgKrhY",
        "outputId": "24311729-2fd5-436d-e0bf-a3429cf50e6b"
      },
      "execution_count": null,
      "outputs": [
        {
          "output_type": "stream",
          "name": "stdout",
          "text": [
            "3\n",
            "2 2 2 \n",
            "2 2 2 \n",
            "2 2 2 \n"
          ]
        }
      ]
    },
    {
      "cell_type": "code",
      "source": [
        "n=int(input())\n",
        "for i in range(n):\n",
        "  for j in range(n):\n",
        "    if(i==0 or i==n-1):\n",
        "      print(\"*\",end=\" \")\n",
        "    elif(n//2==j):\n",
        "      print(\"*\",end=\" \")\n",
        "    else:\n",
        "      print(\" \", end=\" \")\n",
        "  print()"
      ],
      "metadata": {
        "colab": {
          "base_uri": "https://localhost:8080/"
        },
        "id": "xvYwivhoNBlw",
        "outputId": "9188a37f-79a7-47b2-eff3-0315d9528c97"
      },
      "execution_count": null,
      "outputs": [
        {
          "output_type": "stream",
          "name": "stdout",
          "text": [
            "7\n",
            "* * * * * * * \n",
            "      *       \n",
            "      *       \n",
            "      *       \n",
            "      *       \n",
            "      *       \n",
            "* * * * * * * \n"
          ]
        }
      ]
    },
    {
      "cell_type": "code",
      "source": [
        "n=int(input())\n",
        "for i in range(n):\n",
        "  for j in range(n-2):\n",
        "    if(j==0 or j==(n-2-1)):\n",
        "      print(\"*\",end=\" \")\n",
        "    elif(i==0 or i==(n//2)):\n",
        "      print( \"*\", end=\" \")\n",
        "    else:\n",
        "      print(\" \",end=\" \")\n",
        "  print()"
      ],
      "metadata": {
        "colab": {
          "base_uri": "https://localhost:8080/"
        },
        "id": "qa-WBBxPSVek",
        "outputId": "79a64219-feab-4155-b1c4-6b6a4588460e"
      },
      "execution_count": null,
      "outputs": [
        {
          "output_type": "stream",
          "name": "stdout",
          "text": [
            "5\n",
            "* * * \n",
            "*   * \n",
            "* * * \n",
            "*   * \n",
            "*   * \n"
          ]
        }
      ]
    },
    {
      "cell_type": "code",
      "source": [
        "n=int(input())\n",
        "for i in range(n):\n",
        "  for j in range(n-2):\n",
        "    if i==0 and (j==0 or j==(n-2-1)):\n",
        "      print(\" \",end=\" \")\n",
        "    elif(j==0 or j==(n-2-1)):\n",
        "      print(\"*\",end=\" \")\n",
        "    elif(i==0 or i==(n//2)):\n",
        "      print( \"*\", end=\" \")\n",
        "    else:\n",
        "      print(\" \",end=\" \")\n",
        "  print()"
      ],
      "metadata": {
        "colab": {
          "base_uri": "https://localhost:8080/"
        },
        "id": "jmMCYg-Qbj93",
        "outputId": "7541684a-b0cf-46ad-8227-ec4dad10b1f0"
      },
      "execution_count": null,
      "outputs": [
        {
          "output_type": "stream",
          "name": "stdout",
          "text": [
            "7\n",
            "  * * *   \n",
            "*       * \n",
            "*       * \n",
            "* * * * * \n",
            "*       * \n",
            "*       * \n",
            "*       * \n"
          ]
        }
      ]
    },
    {
      "cell_type": "code",
      "source": [
        "n=int(input())\n",
        "for i in range(n):\n",
        "  for j in range(n-2):\n",
        "    if i==0 and (j==(n-2-1)):\n",
        "      print(\" \",end=\" \")\n",
        "    elif(j==0):\n",
        "      print(\"*\",end=\" \")\n",
        "    elif(i==0 or i==(n//2)):\n",
        "      print( \"*\", end=\" \")\n",
        "    else:\n",
        "      print(\" \",end=\" \")\n",
        "  print()"
      ],
      "metadata": {
        "colab": {
          "base_uri": "https://localhost:8080/"
        },
        "id": "aFtPrsmdfRv5",
        "outputId": "8e5a177a-dc56-4bcf-99d6-b6ef2e7659e7"
      },
      "execution_count": null,
      "outputs": [
        {
          "output_type": "stream",
          "name": "stdout",
          "text": [
            "8\n",
            "            \n",
            "*           \n",
            "*           \n",
            "*           \n",
            "* * * * * * \n",
            "*           \n",
            "*           \n",
            "*           \n"
          ]
        }
      ]
    },
    {
      "cell_type": "code",
      "source": [
        "n=int(input())\n",
        "for i in range(n):\n",
        "  for j in range(n-2):\n",
        "    if i==0 and (j==0 and j==(n-2-1)):\n",
        "      print(\" \",end=\" \")\n",
        "    elif(j==0):\n",
        "      print(\"*\",end=\" \")\n",
        "    elif(i==0 or i==(n//2)):\n",
        "      print( \"*\", end=\" \")\n",
        "    else:\n",
        "      print(\" \",end=\" \")\n",
        "  print()"
      ],
      "metadata": {
        "colab": {
          "base_uri": "https://localhost:8080/"
        },
        "id": "MyYCFomBkpZ2",
        "outputId": "704736ba-a0fd-42ef-ecad-a4756e34808c"
      },
      "execution_count": null,
      "outputs": [
        {
          "output_type": "stream",
          "name": "stdout",
          "text": [
            "8\n",
            "* * * * * * \n",
            "*           \n",
            "*           \n",
            "*           \n",
            "* * * * * * \n",
            "*           \n",
            "*           \n",
            "*           \n"
          ]
        }
      ]
    },
    {
      "cell_type": "code",
      "source": [
        "a = \"i love \"\n",
        "b = \"mutton briyani\"\n",
        "c = a+b\n",
        "c"
      ],
      "metadata": {
        "colab": {
          "base_uri": "https://localhost:8080/",
          "height": 35
        },
        "id": "_ubH639Ukpg6",
        "outputId": "17c9b1f0-2c5c-43b6-ae92-6fb74aaa4b2e"
      },
      "execution_count": null,
      "outputs": [
        {
          "output_type": "execute_result",
          "data": {
            "text/plain": [
              "'i love mutton briyani'"
            ],
            "application/vnd.google.colaboratory.intrinsic+json": {
              "type": "string"
            }
          },
          "metadata": {},
          "execution_count": 42
        }
      ]
    },
    {
      "cell_type": "code",
      "source": [
        "row=int(input())\n",
        "for i in range(row):\n",
        "  for j in range(row-2):\n",
        "    if i==0 or i==row-1 or j==0:\n",
        "      if(i==0 or i==row-1) and j==0:\n",
        "        print(\" \",end=\" \")\n",
        "      else:\n",
        "        print(\"*\",end=\" \")\n",
        "    else:\n",
        "      print(\" \",end=\" \")\n",
        "  print()"
      ],
      "metadata": {
        "colab": {
          "base_uri": "https://localhost:8080/"
        },
        "id": "LhdQVN6i2BOx",
        "outputId": "660f5e23-5cdf-48bb-b4a1-59176db96836"
      },
      "execution_count": null,
      "outputs": [
        {
          "output_type": "stream",
          "name": "stdout",
          "text": [
            "7\n",
            "  * * * * \n",
            "*         \n",
            "*         \n",
            "*         \n",
            "*         \n",
            "*         \n",
            "  * * * * \n"
          ]
        }
      ]
    },
    {
      "cell_type": "code",
      "source": [
        "row=int(input())\n",
        "for i in range(row):\n",
        "  for j in range(row-2):\n",
        "    if i==0 or i==row-1 or j==0 or j==row-2-1:\n",
        "      if(i==0 or i==row-1) and j==row-2-1:\n",
        "        print(\" \",end=\" \")\n",
        "      else:\n",
        "        print(\"*\",end=\" \")\n",
        "    else:\n",
        "      print(\" \",end=\" \")\n",
        "  print()"
      ],
      "metadata": {
        "colab": {
          "base_uri": "https://localhost:8080/"
        },
        "id": "AduAJjC_6-hb",
        "outputId": "1b3c853d-f5cb-45e4-c59d-2ce7e59c8590"
      },
      "execution_count": null,
      "outputs": [
        {
          "output_type": "stream",
          "name": "stdout",
          "text": [
            "7\n",
            "* * * *   \n",
            "*       * \n",
            "*       * \n",
            "*       * \n",
            "*       * \n",
            "*       * \n",
            "* * * *   \n"
          ]
        }
      ]
    },
    {
      "cell_type": "code",
      "source": [
        "row=int(input())\n",
        "for i in range(row):\n",
        "  for j in range((row-2)):\n",
        "    if j==0 or i==0 or i==row//2 or i==row-1:\n",
        "      print(\"*\",end=\" \")\n",
        "    else:\n",
        "      print(\" \",end=\" \")\n",
        "  print()"
      ],
      "metadata": {
        "colab": {
          "base_uri": "https://localhost:8080/"
        },
        "id": "XfFphkFt9_fO",
        "outputId": "6d31a033-c8f0-4705-c694-ed84a85021dc"
      },
      "execution_count": null,
      "outputs": [
        {
          "output_type": "stream",
          "name": "stdout",
          "text": [
            "5\n",
            "* * * \n",
            "*     \n",
            "* * * \n",
            "*     \n",
            "* * * \n"
          ]
        }
      ]
    },
    {
      "cell_type": "code",
      "source": [
        "row=int(input())\n",
        "for i in range(row):\n",
        "  for j in range(row):\n",
        "    if(i==row//2):\n",
        "      print(\"*\",end=\" \")\n",
        "    else:\n",
        "      print(\" \", end=\" \")"
      ],
      "metadata": {
        "colab": {
          "base_uri": "https://localhost:8080/"
        },
        "id": "Yy2UIv2p_pNh",
        "outputId": "c29fe0c5-aaa0-4392-d15e-1bfc2c6c4ad8"
      },
      "execution_count": null,
      "outputs": [
        {
          "output_type": "stream",
          "name": "stdout",
          "text": [
            "7\n",
            "                              * * * * *                               "
          ]
        }
      ]
    },
    {
      "cell_type": "code",
      "source": [
        "raw=int(input())\n",
        "temp=1\n",
        "for i in range(raw):\n",
        "  print(\" \"*(raw-1-i),end=\" \")\n",
        "  print(\"*\"*temp)\n",
        "  temp+=2"
      ],
      "metadata": {
        "colab": {
          "base_uri": "https://localhost:8080/"
        },
        "id": "R5g7ClV-_QNl",
        "outputId": "790cdf8d-7f19-405c-d309-e1c802f50105"
      },
      "execution_count": null,
      "outputs": [
        {
          "output_type": "stream",
          "name": "stdout",
          "text": [
            "3\n",
            "   *\n",
            "  ***\n",
            " *****\n"
          ]
        }
      ]
    },
    {
      "cell_type": "code",
      "source": [
        "s=int(input())\n",
        "for i in range(s):\n",
        "  for j in range(s-2):\n",
        "    if i==0 or i==s-1 or i==s//2:\n",
        "      print(\"*\",end=\" \")\n",
        "    elif(j==0 and i<=s//2) or (j==s-2-1 and i>=s//2):\n",
        "      print(\"*\",end=\" \")\n",
        "    else:\n",
        "      print(\" \",end=\" \")\n",
        "  print()"
      ],
      "metadata": {
        "colab": {
          "base_uri": "https://localhost:8080/"
        },
        "id": "rcv-4PfkHbwg",
        "outputId": "dbcd53f1-399e-4ba8-9210-820dfafc13f2"
      },
      "execution_count": null,
      "outputs": [
        {
          "output_type": "stream",
          "name": "stdout",
          "text": [
            "7\n",
            "* * * * * \n",
            "*         \n",
            "*         \n",
            "* * * * * \n",
            "        * \n",
            "        * \n",
            "* * * * * \n"
          ]
        }
      ]
    },
    {
      "cell_type": "code",
      "source": [
        "b=int(input())\n",
        "for i in range(b):\n",
        "  for j in range(b-2):\n",
        "    if(i==0):\n",
        "      print(end=\" \")"
      ],
      "metadata": {
        "id": "uIVOtMd7Rn3I"
      },
      "execution_count": null,
      "outputs": []
    },
    {
      "cell_type": "code",
      "source": [
        "a=int(input())\n",
        "b=int(input())\n",
        "c=max(a,b)\n",
        "if(a%c==0 and b%c==)"
      ],
      "metadata": {
        "id": "bi-UZcA2SoSa"
      },
      "execution_count": null,
      "outputs": []
    }
  ]
}