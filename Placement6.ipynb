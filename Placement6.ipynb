{
  "nbformat": 4,
  "nbformat_minor": 0,
  "metadata": {
    "colab": {
      "provenance": [],
      "authorship_tag": "ABX9TyPNRs9I6bCLGUVPgUei7dTu",
      "include_colab_link": true
    },
    "kernelspec": {
      "name": "python3",
      "display_name": "Python 3"
    },
    "language_info": {
      "name": "python"
    }
  },
  "cells": [
    {
      "cell_type": "markdown",
      "metadata": {
        "id": "view-in-github",
        "colab_type": "text"
      },
      "source": [
        "<a href=\"https://colab.research.google.com/github/shruthika77/placement-python/blob/main/Placement6.ipynb\" target=\"_parent\"><img src=\"https://colab.research.google.com/assets/colab-badge.svg\" alt=\"Open In Colab\"/></a>"
      ]
    },
    {
      "cell_type": "code",
      "execution_count": null,
      "metadata": {
        "id": "u4MjbPvKyHzO",
        "colab": {
          "base_uri": "https://localhost:8080/"
        },
        "outputId": "2627bd38-b96d-4183-e306-15372c5a4edf"
      },
      "outputs": [
        {
          "output_type": "stream",
          "name": "stdout",
          "text": [
            "hello \\ world\n"
          ]
        }
      ],
      "source": [
        "#strings\n",
        "print(\"hello \\ world\")"
      ]
    },
    {
      "cell_type": "code",
      "source": [
        "print(\"hello \\n world\")"
      ],
      "metadata": {
        "colab": {
          "base_uri": "https://localhost:8080/"
        },
        "id": "peGQdlB-SmBV",
        "outputId": "c35d0095-8378-4462-f61a-9297d871435d"
      },
      "execution_count": null,
      "outputs": [
        {
          "output_type": "stream",
          "name": "stdout",
          "text": [
            "hello \n",
            " world\n"
          ]
        }
      ]
    },
    {
      "cell_type": "code",
      "source": [
        "#format\n",
        "num=8\n",
        "print(f\"the number is {num}\")"
      ],
      "metadata": {
        "colab": {
          "base_uri": "https://localhost:8080/"
        },
        "id": "qhQqdHBuSxC1",
        "outputId": "976db615-e0a0-4e41-eded-41be8d61f7f2"
      },
      "execution_count": null,
      "outputs": [
        {
          "output_type": "stream",
          "name": "stdout",
          "text": [
            "the number is 8\n"
          ]
        }
      ]
    },
    {
      "cell_type": "code",
      "source": [
        "#commands\n",
        "#single line\n",
        "#multi line"
      ],
      "metadata": {
        "id": "n7fIWEwrT7-j"
      },
      "execution_count": null,
      "outputs": []
    },
    {
      "cell_type": "code",
      "source": [
        "#docstring\n",
        "string=\"\"\" hkjafk\n",
        "jfksdjf\n",
        "kfosjf\n",
        "kfoqj\"\"\"\n",
        "print(string)"
      ],
      "metadata": {
        "colab": {
          "base_uri": "https://localhost:8080/"
        },
        "id": "fZhZMPjyUe8e",
        "outputId": "e384347f-4091-417c-9f40-0a94323c6c7e"
      },
      "execution_count": null,
      "outputs": [
        {
          "output_type": "stream",
          "name": "stdout",
          "text": [
            " hkjafk\n",
            "jfksdjf\n",
            "kfosjf\n",
            "kfoqj\n"
          ]
        }
      ]
    },
    {
      "cell_type": "code",
      "source": [
        "#_num\n",
        "n1=1000\n",
        "n2=1_000\n",
        "print(n1)\n",
        "print(n2)"
      ],
      "metadata": {
        "colab": {
          "base_uri": "https://localhost:8080/"
        },
        "id": "YIge1VfNVEUd",
        "outputId": "3babc1a5-dd2f-4a92-89b6-114aeb0e1428"
      },
      "execution_count": null,
      "outputs": [
        {
          "output_type": "stream",
          "name": "stdout",
          "text": [
            "1000\n",
            "1000\n"
          ]
        }
      ]
    },
    {
      "cell_type": "code",
      "source": [
        "#precedence(/*,+-)"
      ],
      "metadata": {
        "id": "ai8wk4WzVk0l"
      },
      "execution_count": null,
      "outputs": []
    },
    {
      "cell_type": "code",
      "source": [
        "#defined within class (string,int) is methods\n",
        "string=input(\"enter the num\")\n",
        "string.lower()\n"
      ],
      "metadata": {
        "colab": {
          "base_uri": "https://localhost:8080/",
          "height": 53
        },
        "id": "nQboAyxDWcg6",
        "outputId": "86219168-72ef-465d-8b68-606997ea345d"
      },
      "execution_count": null,
      "outputs": [
        {
          "name": "stdout",
          "output_type": "stream",
          "text": [
            "enter the numhdjTIA\n"
          ]
        },
        {
          "output_type": "execute_result",
          "data": {
            "text/plain": [
              "'hdjtia'"
            ],
            "application/vnd.google.colaboratory.intrinsic+json": {
              "type": "string"
            }
          },
          "metadata": {},
          "execution_count": 12
        }
      ]
    },
    {
      "cell_type": "code",
      "source": [
        "stri=input(\"enter the string value:\")\n",
        "duplicate_char=[]\n",
        "count=string.count(stri[0])\n",
        "for i in stri:\n",
        "  if stri.count(i)>=2:\n",
        "    duplicate_char.append(i)\n",
        "    print(duplicate_char)"
      ],
      "metadata": {
        "colab": {
          "base_uri": "https://localhost:8080/"
        },
        "id": "_OKTFOO-YcfY",
        "outputId": "e5cf0f06-e997-4fd7-ff1a-4c30b620ae0b"
      },
      "execution_count": null,
      "outputs": [
        {
          "output_type": "stream",
          "name": "stdout",
          "text": [
            "enter the string value:abbccd\n",
            "['b']\n",
            "['b', 'b']\n",
            "['b', 'b', 'c']\n",
            "['b', 'b', 'c', 'c']\n"
          ]
        }
      ]
    },
    {
      "cell_type": "code",
      "source": [
        "stri=input(\"enter the string value:\")\n",
        "duplicate_char=[]\n",
        "count=string.count(stri[0])\n",
        "for i in stri:\n",
        "  if stri.count(i)>=2:\n",
        "    duplicate_char.append(i)\n",
        "print(duplicate_char)\n",
        "print(*duplicate_char)"
      ],
      "metadata": {
        "colab": {
          "base_uri": "https://localhost:8080/"
        },
        "id": "5Zp6PEW2X_cv",
        "outputId": "0f0c753e-8481-44a2-9e32-3ccb208bdd35"
      },
      "execution_count": null,
      "outputs": [
        {
          "output_type": "stream",
          "name": "stdout",
          "text": [
            "enter the string value:abhdiqh\n",
            "['h', 'h']\n",
            "h h\n"
          ]
        }
      ]
    },
    {
      "cell_type": "code",
      "source": [
        "def sum_two_num(num1,num2):\n",
        "  return num1+num2\n",
        "num1=int(input())\n",
        "num2=int(input())\n",
        "print(sum_two_num(num1,num2))\n"
      ],
      "metadata": {
        "colab": {
          "base_uri": "https://localhost:8080/"
        },
        "id": "8NwouKwWbOnw",
        "outputId": "434f5e6a-1bc2-4b36-8847-d55de6125b61"
      },
      "execution_count": null,
      "outputs": [
        {
          "output_type": "stream",
          "name": "stdout",
          "text": [
            "6\n",
            "7\n",
            "13\n"
          ]
        }
      ]
    },
    {
      "cell_type": "code",
      "source": [
        "num1=int(input())\n",
        "def fib(num1):\n",
        "  a=0\n",
        "  b=1\n",
        "  c=0\n",
        "  if num1==0:\n",
        "    print(a)\n",
        "  if num1==1:\n",
        "    print(b)\n",
        "  else:\n",
        "    for i in range(2,num1+1):\n",
        "      print(c,end=\" \")\n",
        "      c=a+b\n",
        "      a=b\n",
        "      b=c\n",
        "  return c\n",
        "print(fib(num1))"
      ],
      "metadata": {
        "colab": {
          "base_uri": "https://localhost:8080/"
        },
        "id": "anzFY0LfeO3i",
        "outputId": "d401ea62-5ad5-4fac-9ff0-42c4ed4a74ef"
      },
      "execution_count": null,
      "outputs": [
        {
          "output_type": "stream",
          "name": "stdout",
          "text": [
            "7\n",
            "0 1 2 3 5 8 13\n"
          ]
        }
      ]
    },
    {
      "cell_type": "code",
      "source": [
        "num1=int(input())\n",
        "def fib(num1):\n",
        "  list1=[]\n",
        "  a=0\n",
        "  b=1\n",
        "  c=0\n",
        "  if num1==0:\n",
        "    print(a)\n",
        "  if num1==1:\n",
        "    print(b)\n",
        "  else:\n",
        "    for i in range(1,num1+1):\n",
        "      c=a+b\n",
        "      a=b\n",
        "      b=c\n",
        "      list1.append(c)\n",
        "    return list1\n",
        "print(fib(num1))"
      ],
      "metadata": {
        "colab": {
          "base_uri": "https://localhost:8080/"
        },
        "id": "WER9dljxokJL",
        "outputId": "7f89e277-a63a-4e9a-d3fd-95c72144c08e"
      },
      "execution_count": null,
      "outputs": [
        {
          "output_type": "stream",
          "name": "stdout",
          "text": [
            "6\n",
            "[1, 2, 3, 5, 8, 13]\n"
          ]
        }
      ]
    },
    {
      "cell_type": "code",
      "source": [
        "#write a program to retrun string with its count\n",
        "str=input()\n",
        "for i in str:\n",
        "  count=0\n",
        "  for j in str:\n",
        "    if(i==j):\n",
        "     count+=1\n",
        "  print(i,count,sep=\"\",end=\"\")\n"
      ],
      "metadata": {
        "colab": {
          "base_uri": "https://localhost:8080/"
        },
        "id": "QsGLn-7brJnM",
        "outputId": "2afdaeca-b6d2-431c-f1db-23687d32ba08"
      },
      "execution_count": null,
      "outputs": [
        {
          "output_type": "stream",
          "name": "stdout",
          "text": [
            "green\n",
            "g1r1e2e2n1"
          ]
        }
      ]
    },
    {
      "cell_type": "code",
      "source": [
        "strn=input()"
      ],
      "metadata": {
        "id": "75t5Zwx1wCJ3"
      },
      "execution_count": null,
      "outputs": []
    },
    {
      "cell_type": "code",
      "source": [
        "string=input()\n",
        "word=\"\"\n",
        "for i in string:\n",
        "  if i==\" \":\n",
        "    print(word)\n",
        "  else:\n",
        "    print(i,end=\"\")"
      ],
      "metadata": {
        "colab": {
          "base_uri": "https://localhost:8080/"
        },
        "id": "6L4H-7Ux1M0m",
        "outputId": "ea617c23-688f-4a65-da17-378a4336ca02"
      },
      "execution_count": null,
      "outputs": [
        {
          "output_type": "stream",
          "name": "stdout",
          "text": [
            "yelloe jhhwgd jabdla\n",
            "yelloe\n",
            "jhhwgd\n",
            "jabdla"
          ]
        }
      ]
    },
    {
      "cell_type": "code",
      "source": [
        "colors=input()\n",
        "lis=\"\"\n",
        "for i in colors:\n",
        "  if i==\" \":\n",
        "    print(lis)\n",
        "    lis=\" \"\n",
        "  else:\n",
        "\n",
        "\n",
        "print(lis, sep=\" \",end=\"\")\n",
        "\n"
      ],
      "metadata": {
        "colab": {
          "base_uri": "https://localhost:8080/"
        },
        "id": "rx92Bsb0yUDY",
        "outputId": "055ee33d-7a76-4ac5-8580-fde02d6f8dab"
      },
      "execution_count": null,
      "outputs": [
        {
          "output_type": "stream",
          "name": "stdout",
          "text": [
            "gdag bhdga nksdh\n",
            "['gdag bhdga nksdh']"
          ]
        }
      ]
    },
    {
      "cell_type": "code",
      "source": [
        "string=input(\"enter the string\")\n",
        "for i in string:\n",
        " if i==\" \":\n",
        "  print()\n",
        " else:\n",
        "  print(\\n)\n",
        "  )"
      ],
      "metadata": {
        "colab": {
          "base_uri": "https://localhost:8080/",
          "height": 130
        },
        "id": "ig7O1wywJjPj",
        "outputId": "063211ec-634f-4bb3-e6fd-22d8d01bd1ce"
      },
      "execution_count": null,
      "outputs": [
        {
          "output_type": "error",
          "ename": "SyntaxError",
          "evalue": "ignored",
          "traceback": [
            "\u001b[0;36m  File \u001b[0;32m\"<ipython-input-3-10a190248ef8>\"\u001b[0;36m, line \u001b[0;32m6\u001b[0m\n\u001b[0;31m    print(\\n)\u001b[0m\n\u001b[0m           ^\u001b[0m\n\u001b[0;31mSyntaxError\u001b[0m\u001b[0;31m:\u001b[0m unexpected character after line continuation character\n"
          ]
        }
      ]
    },
    {
      "cell_type": "code",
      "source": [
        "n=int(input(\"enter n numbers count:\"))\n",
        "sum=0\n",
        "for i in range(1,n+1):\n",
        "  sum+=i\n",
        "print(sum)"
      ],
      "metadata": {
        "colab": {
          "base_uri": "https://localhost:8080/"
        },
        "id": "exFg_-MFLEDw",
        "outputId": "efa18feb-4c92-4fd9-bbcc-15ec6c60e779"
      },
      "execution_count": null,
      "outputs": [
        {
          "output_type": "stream",
          "name": "stdout",
          "text": [
            "enter n numbers count:10\n",
            "55\n"
          ]
        }
      ]
    },
    {
      "cell_type": "code",
      "source": [
        "n=int(input())\n",
        "def sum_n_num(num1):\n",
        "  if num1==0:\n",
        "    return 0\n",
        "  return num1+sum_n_num(num1-1)\n",
        "print(sum_n_num(n))"
      ],
      "metadata": {
        "colab": {
          "base_uri": "https://localhost:8080/"
        },
        "id": "yWSepeQSLfIW",
        "outputId": "a4f7aefc-f940-454e-a71d-091a3d0bbcff"
      },
      "execution_count": null,
      "outputs": [
        {
          "output_type": "stream",
          "name": "stdout",
          "text": [
            "3\n",
            "6\n"
          ]
        }
      ]
    },
    {
      "cell_type": "code",
      "source": [
        "n=int(input())\n",
        "def factorial_num(n):\n",
        "  if(n==0):\n",
        "    return 1\n",
        "  else:\n",
        "    return n*factorial_num(n-1)\n",
        "print(factorial_num(n))\n",
        "\n",
        "\n"
      ],
      "metadata": {
        "colab": {
          "base_uri": "https://localhost:8080/"
        },
        "id": "az9rVlTBNaaA",
        "outputId": "30e44fda-1d29-4d37-e9e0-7eea6912de7d"
      },
      "execution_count": null,
      "outputs": [
        {
          "output_type": "stream",
          "name": "stdout",
          "text": [
            "5\n",
            "120\n"
          ]
        }
      ]
    },
    {
      "cell_type": "code",
      "source": [
        "n = int(input())\n",
        "\n",
        "i = 1\n",
        "factorial = 1\n",
        "\n",
        "while i <= n:\n",
        "    factorial =i*factorial\n",
        "    i = i + 1\n",
        "\n",
        "print(\"The factorial of the given number is:\", factorial)"
      ],
      "metadata": {
        "colab": {
          "base_uri": "https://localhost:8080/"
        },
        "id": "ANisK9DeRoUf",
        "outputId": "794f5420-edb0-4468-960d-87e4d4f1eb9f"
      },
      "execution_count": null,
      "outputs": [
        {
          "output_type": "stream",
          "name": "stdout",
          "text": [
            "6\n",
            "The factorial of the given number is: 720\n"
          ]
        }
      ]
    },
    {
      "cell_type": "code",
      "source": [
        "n=int(input())\n",
        "def square(num):\n",
        "  if num==1:\n",
        "    return 1\n",
        "  else:\n",
        "     return num*num\n",
        "  return num*square(num)\n",
        "print(square(n))"
      ],
      "metadata": {
        "colab": {
          "base_uri": "https://localhost:8080/"
        },
        "id": "kqzp8em-QIW4",
        "outputId": "1e3129a3-e9a3-4868-ce5e-310f9a0b6d7b"
      },
      "execution_count": null,
      "outputs": [
        {
          "output_type": "stream",
          "name": "stdout",
          "text": [
            "5\n",
            "25\n"
          ]
        }
      ]
    },
    {
      "cell_type": "code",
      "source": [
        "\n",
        "def fib(num):\n",
        "  a,b=0,1\n",
        "  if num==0:\n",
        "    return a\n",
        "  elif num==1:\n",
        "    return b\n",
        "  else:\n",
        "    return(fib(a,b=b,))\n",
        "print(fib)"
      ],
      "metadata": {
        "colab": {
          "base_uri": "https://localhost:8080/"
        },
        "id": "HmQslj4QYpPw",
        "outputId": "36672edd-9f21-4608-f239-fd4037623851"
      },
      "execution_count": null,
      "outputs": [
        {
          "output_type": "stream",
          "name": "stdout",
          "text": [
            "5\n",
            "8\n"
          ]
        }
      ]
    },
    {
      "cell_type": "code",
      "source": [
        "n*fac(n-1)"
      ],
      "metadata": {
        "id": "kx33UoOspkTu"
      },
      "execution_count": null,
      "outputs": []
    },
    {
      "cell_type": "code",
      "source": [
        "5+fib(4)\n",
        "4+fib(3)\n",
        "3+fib(2)\n",
        "2+fib(1)"
      ],
      "metadata": {
        "id": "EoHG0x6KDkHF"
      },
      "execution_count": null,
      "outputs": []
    }
  ]
}